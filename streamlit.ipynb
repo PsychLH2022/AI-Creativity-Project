{
  "cells": [
    {
      "cell_type": "markdown",
      "metadata": {
        "id": "I0k__7DfJvqr"
      },
      "source": [
        "# Run the streamlit app."
      ]
    },
    {
      "cell_type": "code",
      "execution_count": 1,
      "metadata": {
        "colab": {
          "base_uri": "https://localhost:8080/"
        },
        "id": "sViSevyqCjgn",
        "outputId": "95bfdb63-1d83-488e-b578-2525241166a3"
      },
      "outputs": [
        {
          "name": "stdout",
          "output_type": "stream",
          "text": [
            "\n",
            "Collecting usage statistics. To deactivate, set browser.gatherUsageStats to False.\n",
            "\u001b[0m\n",
            "\u001b[0m\n",
            "\u001b[34m\u001b[1m  You can now view your Streamlit app in your browser.\u001b[0m\n",
            "\u001b[0m\n",
            "\u001b[34m  Network URL: \u001b[0m\u001b[1mhttp://172.20.32.120:8501\u001b[0m\n",
            "\u001b[34m  External URL: \u001b[0m\u001b[1mhttp://50.93.222.44:8501\u001b[0m\n",
            "\u001b[0m\n",
            "Connected to MySQL Server version  8.0.33\n",
            "Connected to MySQL Server version  8.0.33\n",
            "Connected to MySQL Server version  8.0.33\n",
            "Connected to MySQL Server version  8.0.33\n",
            "Connected to MySQL Server version  8.0.33\n",
            "Connected to MySQL Server version  8.0.33\n",
            "Connected to MySQL Server version  8.0.33\n",
            "Connected to MySQL Server version  8.0.33\n",
            "Connected to MySQL Server version  8.0.33\n",
            "Connected to MySQL Server version  8.0.33\n",
            "Connected to MySQL Server version  8.0.33\n",
            "Connected to MySQL Server version  8.0.33\n",
            "Connected to MySQL Server version  8.0.33\n",
            "Connected to MySQL Server version  8.0.33\n",
            "Connected to MySQL Server version  8.0.33\n",
            "Connected to MySQL Server version  8.0.33\n",
            "Connected to MySQL Server version  8.0.33\n",
            "Connected to MySQL Server version  8.0.33\n",
            "Connected to MySQL Server version  8.0.33\n",
            "Connected to MySQL Server version  8.0.33\n",
            "Connected to MySQL Server version  8.0.33\n",
            "Connected to MySQL Server version  8.0.33\n",
            "Connected to MySQL Server version  8.0.33\n",
            "Connected to MySQL Server version  8.0.33\n",
            "Connected to MySQL Server version  8.0.33\n",
            "Connected to MySQL Server version  8.0.33\n",
            "Connected to MySQL Server version  8.0.33\n",
            "Connected to MySQL Server version  8.0.33\n",
            "Record is inserted into table successfully\n",
            "Connected to MySQL Server version  8.0.33\n",
            "Connected to MySQL Server version  8.0.33\n",
            "Connected to MySQL Server version  8.0.33\n",
            "Connected to MySQL Server version  8.0.33\n",
            "Connected to MySQL Server version  8.0.33\n",
            "Connected to MySQL Server version  8.0.33\n",
            "Connected to MySQL Server version  8.0.33\n",
            "Connected to MySQL Server version  8.0.33\n",
            "Connected to MySQL Server version  8.0.33\n",
            "Record is inserted into table successfully\n",
            "^C\n",
            "\u001b[34m  Stopping...\u001b[0m\n"
          ]
        }
      ],
      "source": [
        "!streamlit run interface.py"
      ]
    },
    {
      "cell_type": "code",
      "execution_count": null,
      "metadata": {},
      "outputs": [],
      "source": [
        "!streamlit run interface_colab_version.py"
      ]
    }
  ],
  "metadata": {
    "colab": {
      "provenance": []
    },
    "kernelspec": {
      "display_name": "Python 3",
      "name": "python3"
    },
    "language_info": {
      "codemirror_mode": {
        "name": "ipython",
        "version": 3
      },
      "file_extension": ".py",
      "mimetype": "text/x-python",
      "name": "python",
      "nbconvert_exporter": "python",
      "pygments_lexer": "ipython3",
      "version": "3.10.13"
    }
  },
  "nbformat": 4,
  "nbformat_minor": 0
}
