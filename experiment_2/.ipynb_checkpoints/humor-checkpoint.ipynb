{
 "cells": [
  {
   "cell_type": "markdown",
   "id": "c5d78d18",
   "metadata": {},
   "source": [
    "# Introduction\n",
    "The goal of this study is to test the relationship between different factors and humor, in other words, how these factors relate to whether people find a joke funny or not.The data was gathered from questionnaires posted on prolific. The questionnaire consisted of five jokes, each randomly selected from their respective joke pool, and participants were required to answer a number of questions after watching each joke. The questions are mainly yes/no multiple choice and scale choice. There are three csv files included with the notebook, the raw data \"humor_raw\", the fixed data for R \"humor_r\", the variable document \"humor_variables\"."
   ]
  },
  {
   "cell_type": "markdown",
   "id": "05d65f86",
   "metadata": {},
   "source": [
    "# Preprocessing\n",
    "Since the goal of the study is to figure the general nature of the humor, participants' individual factors are not what the study concerns. All participants' personal related information are excluded from raw version to R version, only questions and answers are saved. Codes of Questions are replaced by variable name. Blanks are replaced by value 0 (as default value for those questions). There are no character variables with more than 3 levels and others are numberic variables, so there is no further action for R version dataset."
   ]
  },
  {
   "cell_type": "code",
   "execution_count": 2,
   "id": "8a2dc2cc",
   "metadata": {},
   "outputs": [
    {
     "ename": "ERROR",
     "evalue": "Error in library(tidymodels): there is no package called 'tidymodels'\n",
     "output_type": "error",
     "traceback": [
      "Error in library(tidymodels): there is no package called 'tidymodels'\nTraceback:\n",
      "1. library(tidymodels)"
     ]
    }
   ],
   "source": [
    ".libPaths() "
   ]
  },
  {
   "cell_type": "code",
   "execution_count": null,
   "id": "937d03a9",
   "metadata": {},
   "outputs": [],
   "source": []
  },
  {
   "cell_type": "code",
   "execution_count": null,
   "id": "1698fd3a",
   "metadata": {},
   "outputs": [],
   "source": []
  }
 ],
 "metadata": {
  "kernelspec": {
   "display_name": "R",
   "language": "R",
   "name": "ir"
  },
  "language_info": {
   "codemirror_mode": "r",
   "file_extension": ".r",
   "mimetype": "text/x-r-source",
   "name": "R",
   "pygments_lexer": "r",
   "version": "3.6.1"
  }
 },
 "nbformat": 4,
 "nbformat_minor": 5
}
