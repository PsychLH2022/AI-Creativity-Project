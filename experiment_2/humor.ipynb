{
 "cells": [
  {
   "cell_type": "markdown",
   "id": "c5d78d18",
   "metadata": {},
   "source": [
    "# Introduction\n",
    "The goal of this study is to test the relationship between different factors and humor, in other words, how these factors relate to whether people find a joke funny or not.The data was gathered from questionnaires posted on prolific. The questionnaire consisted of five jokes, each randomly selected from their respective joke pool, and participants were required to answer a number of questions after watching each joke. The questions are mainly yes/no multiple choice and scale choice. There are three csv files included with the notebook, the raw data \"humor_raw\", the fixed data for R \"humor_r\", the variable document \"humor_variables\"."
   ]
  },
  {
   "cell_type": "markdown",
   "id": "05d65f86",
   "metadata": {},
   "source": [
    "# Preprocessing\n",
    "Since the goal of the study is to figure the general nature of the humor, participants' individual factors are not what the study concerns. All participants' personal related information are excluded from raw version to R version, only questions and answers are saved. Codes of Questions are replaced by variable name. Blanks are replaced by value 0 (as default value for those questions). There are no character variables with more than 3 levels and others are numberic variables, so there is no further action for R version dataset."
   ]
  },
  {
   "cell_type": "code",
   "execution_count": 4,
   "id": "937d03a9",
   "metadata": {
    "vscode": {
     "languageId": "r"
    }
   },
   "outputs": [
    {
     "name": "stderr",
     "output_type": "stream",
     "text": [
      "\u001b[1m\u001b[22m\u001b[36mℹ\u001b[39m SHA-1 hash of file is \"d3120e9f6c258fd5824bc85989903ee3863c2e73\"\n",
      "\u001b[1m\u001b[22m\u001b[36mℹ\u001b[39m SHA-1 hash of file is \"def6ce26ed7b2493931fde811adff9287ee8d874\"\n"
     ]
    }
   ],
   "source": [
    "#library\n",
    "library(janitor, include.only = \"clean_names\")\n",
    "library(cowplot, include.only = \"plot_grid\") \n",
    "library(kableExtra, exclude = \"group_rows\") \n",
    "library(tidyverse) \n",
    "library(tidymodels) \n",
    "devtools::source_url(\"https://github.com/jjcurtin/lab_support/blob/main/fun_eda.R?raw=true\")\n",
    "devtools::source_url(\"https://github.com/jjcurtin/lab_support/blob/main/fun_plots.R?raw=true\")"
   ]
  },
  {
   "cell_type": "code",
   "execution_count": 14,
   "id": "1698fd3a",
   "metadata": {
    "vscode": {
     "languageId": "r"
    }
   },
   "outputs": [
    {
     "name": "stderr",
     "output_type": "stream",
     "text": [
      "\u001b[1mRows: \u001b[22m\u001b[34m28\u001b[39m \u001b[1mColumns: \u001b[22m\u001b[34m51\u001b[39m\n",
      "\u001b[36m──\u001b[39m \u001b[1mColumn specification\u001b[22m \u001b[36m────────────────────────────────────────────────────────────────────────────────────────────────\u001b[39m\n",
      "\u001b[1mDelimiter:\u001b[22m \",\"\n",
      "\u001b[31mchr\u001b[39m (16): state, arousal1, accept1, jump1, arousal2, accept2, jump2, arousal...\n",
      "\u001b[32mdbl\u001b[39m (35): funny1, violation1_1, violation1_2, violation1_3, violation1_4, vi...\n",
      "\n",
      "\u001b[36mℹ\u001b[39m Use `spec()` to retrieve the full column specification for this data.\n",
      "\u001b[36mℹ\u001b[39m Specify the column types or set `show_col_types = FALSE` to quiet this message.\n"
     ]
    }
   ],
   "source": [
    "#load data\n",
    "d <- read_csv(\"humor_r.csv\") \n",
    "\n",
    "#calculate the total violation value\n",
    "d$violation1 <- d$violation1_1 + d$violation1_2 + d$violation1_3 + d$violation1_4 + d$violation1_5\n",
    "d$violation2 <- d$violation2_1 + d$violation2_2 + d$violation2_3 + d$violation2_4 + d$violation2_5\n",
    "d$violation3 <- d$violation3_1 + d$violation3_2 + d$violation3_3 + d$violation3_4 + d$violation3_5\n",
    "d$violation4 <- d$violation4_1 + d$violation4_2 + d$violation4_3 + d$violation4_4 + d$violation4_5\n",
    "d$violation5 <- d$violation5_1 + d$violation5_2 + d$violation5_3 + d$violation5_4 + d$violation5_5"
   ]
  },
  {
   "cell_type": "code",
   "execution_count": 11,
   "id": "b3e7951c",
   "metadata": {
    "vscode": {
     "languageId": "r"
    }
   },
   "outputs": [
    {
     "name": "stdout",
     "output_type": "stream",
     "text": [
      "── Data Summary ────────────────────────\n",
      "                           Values\n",
      "Name                       d     \n",
      "Number of rows             28    \n",
      "Number of columns          56    \n",
      "_______________________          \n",
      "Column type frequency:           \n",
      "  character                16    \n",
      "  numeric                  40    \n",
      "________________________         \n",
      "Group variables            None  \n",
      "\n",
      "── Variable type: character ────────────────────────────────────────────────────\n",
      "   skim_variable n_missing complete_rate min max empty n_unique whitespace\n",
      "\u001b[90m 1\u001b[39m state                 0             1  27  28     0        2          0\n",
      "\u001b[90m 2\u001b[39m arousal1              0             1   2   3     0        2          0\n",
      "\u001b[90m 3\u001b[39m accept1               0             1  15  16     0        2          0\n",
      "\u001b[90m 4\u001b[39m jump1                 0             1   2   3     0        2          0\n",
      "\u001b[90m 5\u001b[39m arousal2              0             1   2   3     0        2          0\n",
      "\u001b[90m 6\u001b[39m accept2               0             1  15  16     0        2          0\n",
      "\u001b[90m 7\u001b[39m jump2                 0             1   2   3     0        2          0\n",
      "\u001b[90m 8\u001b[39m arousal3              0             1   2   3     0        2          0\n",
      "\u001b[90m 9\u001b[39m accept3               0             1  15  16     0        2          0\n",
      "\u001b[90m10\u001b[39m jump3                 0             1   2   3     0        2          0\n",
      "\u001b[90m11\u001b[39m arousal4              0             1   2   3     0        2          0\n",
      "\u001b[90m12\u001b[39m accept4               0             1  15  16     0        2          0\n",
      "\u001b[90m13\u001b[39m jump4                 0             1   2   3     0        2          0\n",
      "\u001b[90m14\u001b[39m arousal5              0             1   2   3     0        2          0\n",
      "\u001b[90m15\u001b[39m accept5               0             1  15  16     0        2          0\n",
      "\u001b[90m16\u001b[39m jump5                 0             1   2   3     0        2          0\n",
      "\n",
      "── Variable type: numeric ──────────────────────────────────────────────────────\n",
      "   skim_variable n_missing complete_rate   mean     sd p0  p25  p50   p75 p100\n",
      "\u001b[90m 1\u001b[39m funny1                0             1 31.5   23.8    0 9.75 29   50.8    78\n",
      "\u001b[90m 2\u001b[39m violation1_1          0             1  0.786  1.62   0 0     0    1       7\n",
      "\u001b[90m 3\u001b[39m violation1_2          0             1  0.429  0.879  0 0     0    1       4\n",
      "\u001b[90m 4\u001b[39m violation1_3          0             1  1.86   2.65   0 0     0.5  2.75    9\n",
      "\u001b[90m 5\u001b[39m violation1_4          0             1  2      2.89   0 0     0    4.25   10\n",
      "\u001b[90m 6\u001b[39m violation1_5          0             1  2.21   3.19   0 0     0.5  4      10\n",
      "\u001b[90m 7\u001b[39m violation1_6          0             1  0.857  1.88   0 0     0    1       8\n",
      "\u001b[90m 8\u001b[39m funny2                0             1 22.5   23.2    0 1.5  14.5 39.5    84\n",
      "\u001b[90m 9\u001b[39m violation2_1          0             1  0.643  1.59   0 0     0    1       8\n",
      "\u001b[90m10\u001b[39m violation2_2          0             1  0.786  2.01   0 0     0    1      10\n",
      "\u001b[90m11\u001b[39m violation2_3          0             1  1.93   3.22   0 0     0.5  2      10\n",
      "\u001b[90m12\u001b[39m violation2_4          0             1  1.46   2.25   0 0     0    2       8\n",
      "\u001b[90m13\u001b[39m violation2_5          0             1  2.96   3.40   0 0     2    5      10\n",
      "\u001b[90m14\u001b[39m violation2_6          0             1  0.964  2.24   0 0     0    1      10\n",
      "\u001b[90m15\u001b[39m funny3                0             1 28.4   26.4    0 7.25 20   46.8    80\n",
      "\u001b[90m16\u001b[39m violation3_1          0             1  0.5    1.14   0 0     0    0.25    5\n",
      "\u001b[90m17\u001b[39m violation3_2          0             1  0.643  1.28   0 0     0    1       5\n",
      "\u001b[90m18\u001b[39m violation3_3          0             1  2.25   3.37   0 0     1    3      10\n",
      "\u001b[90m19\u001b[39m violation3_4          0             1  1.46   2.38   0 0     0    2      10\n",
      "\u001b[90m20\u001b[39m violation3_5          0             1  2.82   3.70   0 0     1    5      10\n",
      "\u001b[90m21\u001b[39m violation3_6          0             1  1.29   2.73   0 0     0    1.25   10\n",
      "\u001b[90m22\u001b[39m funny4                0             1 17.5   19.6    0 0     9   30      60\n",
      "\u001b[90m23\u001b[39m violation4_1          0             1  0.857  2.14   0 0     0    0.25   10\n",
      "\u001b[90m24\u001b[39m violation4_2          0             1  0.25   0.518  0 0     0    0       2\n",
      "\u001b[90m25\u001b[39m violation4_3          0             1  2.04   3.16   0 0     0    3.25   10\n",
      "\u001b[90m26\u001b[39m violation4_4          0             1  1.21   2.32   0 0     0    1      10\n",
      "\u001b[90m27\u001b[39m violation4_5          0             1  3.25   3.72   0 0     1.5  6      10\n",
      "\u001b[90m28\u001b[39m violation4_6          0             1  0.679  1.74   0 0     0    0       7\n",
      "\u001b[90m29\u001b[39m funny5                0             1 24.0   26.0    0 1    14   36.2    80\n",
      "\u001b[90m30\u001b[39m violation5_1          0             1  0.286  0.600  0 0     0    0       2\n",
      "\u001b[90m31\u001b[39m violation5_2          0             1  0.714  2.07   0 0     0    0.25   10\n",
      "\u001b[90m32\u001b[39m violation5_3          0             1  1      2.16   0 0     0    1       8\n",
      "\u001b[90m33\u001b[39m violation5_4          0             1  1.04   1.73   0 0     0    2       7\n",
      "\u001b[90m34\u001b[39m violation5_5          0             1  2.32   3.35   0 0     0.5  4.25   10\n",
      "\u001b[90m35\u001b[39m violation5_6          0             1  0.643  1.62   0 0     0    0.25    7\n",
      "\u001b[90m36\u001b[39m violation1            0             1  7.29   8.05   0 0.75  4.5 12      29\n",
      "\u001b[90m37\u001b[39m violation2            0             1  7.79   8.27   0 0     6   13      30\n",
      "\u001b[90m38\u001b[39m violation3            0             1  7.68   7.36   0 0.75  6.5 11.2    29\n",
      "\u001b[90m39\u001b[39m violation4            0             1  7.61   8.87   0 0     5.5 11.5    40\n",
      "\u001b[90m40\u001b[39m violation5            0             1  5.36   6.65   0 0     2.5  9.25   22\n",
      "    skew kurtosis\n",
      "\u001b[90m 1\u001b[39m 0.336  -\u001b[31m1\u001b[39m\u001b[31m.\u001b[39m\u001b[31m28\u001b[39m  \n",
      "\u001b[90m 2\u001b[39m 2.36    5.52  \n",
      "\u001b[90m 3\u001b[39m 2.58    7.18  \n",
      "\u001b[90m 4\u001b[39m 1.27    0.398 \n",
      "\u001b[90m 5\u001b[39m 1.29    0.651 \n",
      "\u001b[90m 6\u001b[39m 1.15   -\u001b[31m0\u001b[39m\u001b[31m.\u001b[39m\u001b[31m165\u001b[39m \n",
      "\u001b[90m 7\u001b[39m 2.65    6.49  \n",
      "\u001b[90m 8\u001b[39m 0.824  -\u001b[31m0\u001b[39m\u001b[31m.\u001b[39m\u001b[31m336\u001b[39m \n",
      "\u001b[90m 9\u001b[39m 3.55   13.4   \n",
      "\u001b[90m10\u001b[39m 3.57   13.1   \n",
      "\u001b[90m11\u001b[39m 1.68    1.42  \n",
      "\u001b[90m12\u001b[39m 1.44    0.874 \n",
      "\u001b[90m13\u001b[39m 0.860  -\u001b[31m0\u001b[39m\u001b[31m.\u001b[39m\u001b[31m582\u001b[39m \n",
      "\u001b[90m14\u001b[39m 3.01    8.45  \n",
      "\u001b[90m15\u001b[39m 0.648  -\u001b[31m1\u001b[39m\u001b[31m.\u001b[39m\u001b[31m10\u001b[39m  \n",
      "\u001b[90m16\u001b[39m 2.61    6.69  \n",
      "\u001b[90m17\u001b[39m 2.18    3.88  \n",
      "\u001b[90m18\u001b[39m 1.45    0.658 \n",
      "\u001b[90m19\u001b[39m 1.94    3.69  \n",
      "\u001b[90m20\u001b[39m 0.947  -\u001b[31m0\u001b[39m\u001b[31m.\u001b[39m\u001b[31m771\u001b[39m \n",
      "\u001b[90m21\u001b[39m 2.22    3.67  \n",
      "\u001b[90m22\u001b[39m 0.728  -\u001b[31m0\u001b[39m\u001b[31m.\u001b[39m\u001b[31m865\u001b[39m \n",
      "\u001b[90m23\u001b[39m 3.05    9.51  \n",
      "\u001b[90m24\u001b[39m 1.83    2.47  \n",
      "\u001b[90m25\u001b[39m 1.46    0.904 \n",
      "\u001b[90m26\u001b[39m 2.34    5.22  \n",
      "\u001b[90m27\u001b[39m 0.690  -\u001b[31m1\u001b[39m\u001b[31m.\u001b[39m\u001b[31m12\u001b[39m  \n",
      "\u001b[90m28\u001b[39m 2.46    5.01  \n",
      "\u001b[90m29\u001b[39m 0.819  -\u001b[31m0\u001b[39m\u001b[31m.\u001b[39m\u001b[31m766\u001b[39m \n",
      "\u001b[90m30\u001b[39m 1.82    2.09  \n",
      "\u001b[90m31\u001b[39m 3.51   12.1   \n",
      "\u001b[90m32\u001b[39m 2.17    3.54  \n",
      "\u001b[90m33\u001b[39m 1.89    3.22  \n",
      "\u001b[90m34\u001b[39m 1.21    0.013\u001b[4m3\u001b[24m\n",
      "\u001b[90m35\u001b[39m 2.85    7.50  \n",
      "\u001b[90m36\u001b[39m 1.04    0.057\u001b[4m2\u001b[24m\n",
      "\u001b[90m37\u001b[39m 0.938   0.061\u001b[4m1\u001b[24m\n",
      "\u001b[90m38\u001b[39m 0.970   0.495 \n",
      "\u001b[90m39\u001b[39m 1.75    3.79  \n",
      "\u001b[90m40\u001b[39m 1.10    0.040\u001b[4m2\u001b[24m\n"
     ]
    },
    {
     "ename": "ERROR",
     "evalue": "Error in is.null(text_repr) || nchar(text_repr) == 0L: 'length = 18' in coercion to 'logical(1)'\n",
     "output_type": "error",
     "traceback": [
      "Error in is.null(text_repr) || nchar(text_repr) == 0L: 'length = 18' in coercion to 'logical(1)'\nTraceback:\n"
     ]
    }
   ],
   "source": [
    "#check complete rate and outliars\n",
    "skim_all(d)\n",
    "#the data is complete and no obvious outliars\n",
    "\n",
    "#check result distribution\n",
    "d |> plot_hist(\"funny1\")\n",
    "d |> plot_hist(\"funny2\")\n",
    "d |> plot_hist(\"funny3\")\n",
    "d |> plot_hist(\"funny4\")\n",
    "d |> plot_hist(\"funny5\")\n",
    "\n",
    "#check relationship between state and result\n",
    "d |> plot_grouped_box_violin(\"state\", \"funny1\")\n",
    "d |> plot_grouped_box_violin(\"state\", \"funny2\")\n",
    "d |> plot_grouped_box_violin(\"state\", \"funny3\")\n",
    "d |> plot_grouped_box_violin(\"state\", \"funny4\")\n",
    "d |> plot_grouped_box_violin(\"state\", \"funny5\")\n",
    "\n",
    "#check relationship between arousal and result\n",
    "d |> plot_grouped_box_violin(\"arousal1\", \"funny1\")\n",
    "d |> plot_grouped_box_violin(\"arousal2\", \"funny2\")\n",
    "d |> plot_grouped_box_violin(\"arousal3\", \"funny3\")\n",
    "d |> plot_grouped_box_violin(\"arousal4\", \"funny4\")\n",
    "d |> plot_grouped_box_violin(\"arousal5\", \"funny5\")\n",
    "\n",
    "#check relationship between violation and result\n",
    "d |> plot_scatter(\"violation1\", \"funny1\")\n",
    "d |> plot_scatter(\"violation2\", \"funny2\")\n",
    "d |> plot_scatter(\"violation3\", \"funny3\")\n",
    "d |> plot_scatter(\"violation4\", \"funny4\")\n",
    "d |> plot_scatter(\"violation5\", \"funny5\")\n",
    "\n",
    "#check relationship between accept and result\n",
    "d |> plot_grouped_box_violin(\"accept1\", \"funny1\")\n",
    "d |> plot_grouped_box_violin(\"accept2\", \"funny2\")\n",
    "d |> plot_grouped_box_violin(\"accept3\", \"funny3\")\n",
    "d |> plot_grouped_box_violin(\"accept4\", \"funny4\")\n",
    "d |> plot_grouped_box_violin(\"accept5\", \"funny5\")"
   ]
  },
  {
   "cell_type": "code",
   "execution_count": 13,
   "id": "f037c047",
   "metadata": {},
   "outputs": [
    {
     "data": {
      "image/png": "[encoded data removed]",
      "text/plain": [
       "plot without title"
      ]
     },
     "metadata": {
      "image/png": {
       "height": 420,
       "width": 420
      }
     },
     "output_type": "display_data"
    }
   ],
   "source": [
    "d |> plot_hist(\"funny1\")"
   ]
  },
  {
   "cell_type": "code",
   "execution_count": null,
   "id": "6b7d3eeb",
   "metadata": {},
   "outputs": [],
   "source": []
  }
 ],
 "metadata": {
  "kernelspec": {
   "display_name": "R",
   "language": "R",
   "name": "ir"
  },
  "language_info": {
   "codemirror_mode": "r",
   "file_extension": ".r",
   "mimetype": "text/x-r-source",
   "name": "R",
   "pygments_lexer": "r",
   "version": "4.3.1"
  }
 },
 "nbformat": 4,
 "nbformat_minor": 5
}
