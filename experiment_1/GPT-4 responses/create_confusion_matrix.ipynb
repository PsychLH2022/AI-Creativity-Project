{
 "cells": [
  {
   "cell_type": "code",
   "execution_count": 1,
   "metadata": {},
   "outputs": [],
   "source": [
    "from sklearn.metrics import confusion_matrix\n",
    "import numpy as np\n",
    "import pandas as pd\n",
    "import matplotlib.pyplot as plt\n",
    "import seaborn as sns\n",
    "\n",
    "# read two data files\n",
    "data = pd.read_csv('response directly/caption_ratings_GPT4_only_test_2.csv')\n",
    "data_test = pd.read_csv('../../data/data_of_contest_866/866_test.csv')"
   ]
  },
  {
   "cell_type": "code",
   "execution_count": 2,
   "metadata": {},
   "outputs": [],
   "source": [
    "# merge two dataframes and caption is the key\n",
    "data_merged = pd.merge(data, data_test, on='caption', how='inner', ) "
   ]
  },
  {
   "cell_type": "code",
   "execution_count": 3,
   "metadata": {},
   "outputs": [
    {
     "data": {
      "text/html": [
       "<div>\n",
       "<style scoped>\n",
       "    .dataframe tbody tr th:only-of-type {\n",
       "        vertical-align: middle;\n",
       "    }\n",
       "\n",
       "    .dataframe tbody tr th {\n",
       "        vertical-align: top;\n",
       "    }\n",
       "\n",
       "    .dataframe thead th {\n",
       "        text-align: right;\n",
       "    }\n",
       "</style>\n",
       "<table border=\"1\" class=\"dataframe\">\n",
       "  <thead>\n",
       "    <tr style=\"text-align: right;\">\n",
       "      <th></th>\n",
       "      <th>caption</th>\n",
       "      <th>rating</th>\n",
       "      <th>mean</th>\n",
       "      <th>label</th>\n",
       "    </tr>\n",
       "  </thead>\n",
       "  <tbody>\n",
       "    <tr>\n",
       "      <th>0</th>\n",
       "      <td>She used to think I was the center of the univ...</td>\n",
       "      <td>funny</td>\n",
       "      <td>1.699167</td>\n",
       "      <td>funny</td>\n",
       "    </tr>\n",
       "    <tr>\n",
       "      <th>1</th>\n",
       "      <td>I remember the day that Mars said “You’ll regr...</td>\n",
       "      <td>funny</td>\n",
       "      <td>1.651650</td>\n",
       "      <td>funny</td>\n",
       "    </tr>\n",
       "    <tr>\n",
       "      <th>2</th>\n",
       "      <td>Could I get some more ice?</td>\n",
       "      <td>somewhat_funny</td>\n",
       "      <td>1.639924</td>\n",
       "      <td>funny</td>\n",
       "    </tr>\n",
       "    <tr>\n",
       "      <th>3</th>\n",
       "      <td>It's five o'clock somewhere.</td>\n",
       "      <td>not_funny</td>\n",
       "      <td>1.637793</td>\n",
       "      <td>funny</td>\n",
       "    </tr>\n",
       "    <tr>\n",
       "      <th>4</th>\n",
       "      <td>Everything I drink goes to my equator.”</td>\n",
       "      <td>somewhat_funny</td>\n",
       "      <td>1.636842</td>\n",
       "      <td>funny</td>\n",
       "    </tr>\n",
       "  </tbody>\n",
       "</table>\n",
       "</div>"
      ],
      "text/plain": [
       "                                             caption          rating  \\\n",
       "0  She used to think I was the center of the univ...           funny   \n",
       "1  I remember the day that Mars said “You’ll regr...           funny   \n",
       "2                         Could I get some more ice?  somewhat_funny   \n",
       "3                       It's five o'clock somewhere.       not_funny   \n",
       "4            Everything I drink goes to my equator.”  somewhat_funny   \n",
       "\n",
       "       mean  label  \n",
       "0  1.699167  funny  \n",
       "1  1.651650  funny  \n",
       "2  1.639924  funny  \n",
       "3  1.637793  funny  \n",
       "4  1.636842  funny  "
      ]
     },
     "execution_count": 3,
     "metadata": {},
     "output_type": "execute_result"
    }
   ],
   "source": [
    "data_merged.head()"
   ]
  },
  {
   "cell_type": "code",
   "execution_count": 4,
   "metadata": {},
   "outputs": [],
   "source": [
    "true = data_merged['label'].values\n",
    "pred = data_merged['rating'].values"
   ]
  },
  {
   "cell_type": "code",
   "execution_count": 5,
   "metadata": {},
   "outputs": [
    {
     "data": {
      "image/png": "[encoded data removed]",
      "text/plain": [
       "<Figure size 500x500 with 1 Axes>"
      ]
     },
     "metadata": {},
     "output_type": "display_data"
    }
   ],
   "source": [
    "# Generating the confusion matrix for accuracy calculation\n",
    "cm = confusion_matrix(true, pred, labels=['funny', 'somewhat_funny', 'not_funny'])\n",
    "cm\n",
    "\n",
    "# Plotting the confusion matrix\n",
    "plt.figure(figsize=(5, 5))\n",
    "sns.heatmap(cm, annot=True, fmt='d', cmap='Blues', cbar=False, \n",
    "            xticklabels=['funny', 'somewhat_funny', 'not_funny'], \n",
    "            yticklabels=['funny', 'somewhat_funny', 'not_funny'])\n",
    "plt.xlabel('Predicted')\n",
    "plt.ylabel('True')\n",
    "plt.show()"
   ]
  }
 ],
 "metadata": {
  "kernelspec": {
   "display_name": "Capstone",
   "language": "python",
   "name": "python3"
  },
  "language_info": {
   "codemirror_mode": {
    "name": "ipython",
    "version": 3
   },
   "file_extension": ".py",
   "mimetype": "text/x-python",
   "name": "python",
   "nbconvert_exporter": "python",
   "pygments_lexer": "ipython3",
   "version": "3.10.11"
  }
 },
 "nbformat": 4,
 "nbformat_minor": 2
}
