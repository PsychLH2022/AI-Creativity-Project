{
 "cells": [
  {
   "cell_type": "code",
   "execution_count": 1,
   "metadata": {},
   "outputs": [],
   "source": [
    "import pandas as pd\n",
    "\n",
    "# calculate the accuracy\n",
    "def accuracy(data):\n",
    "    # divide data into 3 parts by label\n",
    "    data_0 = data[data['label'] == 'funny']\n",
    "    data_1 = data[data['label'] == 'somewhat_funny']\n",
    "    data_2 = data[data['label'] == 'not_funny']\n",
    "\n",
    "    # calculate the accuracy for each data part\n",
    "    accuracy_0 = len(data_0[data_0['label'] == data_0['rating']]) / len(data_0)\n",
    "    accuracy_1 = len(data_1[data_1['label'] == data_1['rating']]) / len(data_1)\n",
    "    accuracy_2 = len(data_2[data_2['label'] == data_2['rating']]) / len(data_2)\n",
    "\n",
    "    # create a dictionary to store the accuracy\n",
    "    accuracy = {'funny': accuracy_0, 'somewhat_funny': accuracy_1, 'not_funny': accuracy_2}\n",
    "\n",
    "    return accuracy\n",
    "\n",
    "# calculate the F1 score\n",
    "def F1_score_Calculation(data, class_name):\n",
    "    # calculate ture positive for funny\n",
    "    tp = len(data[(data['label'] == class_name) & (data['rating'] == class_name)])\n",
    "    # calculate false positive for funny\n",
    "    fp = len(data[(data['label'] != class_name) & (data['rating'] == class_name)])\n",
    "    # calculate false negative for funny\n",
    "    fn = len(data[(data['label'] == class_name) & (data['rating'] != class_name)])\n",
    "    # calculate precision for funny\n",
    "    if tp == 0 and fp == 0:\n",
    "        precision = 0\n",
    "    else:\n",
    "        precision = tp / (tp + fp)\n",
    "    # calculate recall for funny\n",
    "    if tp == 0 and fn == 0:\n",
    "        recall = 0\n",
    "    else:\n",
    "        recall = tp / (tp + fn)\n",
    "    # calculate F1 score for funny\n",
    "    if precision == 0 and recall == 0:\n",
    "        f1 = 0\n",
    "    else:\n",
    "        f1 = 2 * precision * recall / (precision + recall)\n",
    "    return f1"
   ]
  },
  {
   "cell_type": "code",
   "execution_count": 5,
   "metadata": {},
   "outputs": [],
   "source": [
    "# Read the results from the csv file\n",
    "df = pd.read_csv('response directly/caption_ratings_GPT4_only_test_2.csv')\n",
    "\n",
    "# read the test file\n",
    "test = pd.read_csv('../../data/data_of_contest_866/866_test.csv')"
   ]
  },
  {
   "cell_type": "code",
   "execution_count": 6,
   "metadata": {},
   "outputs": [
    {
     "name": "stdout",
     "output_type": "stream",
     "text": [
      "not_funny         0.924855\n",
      "somewhat_funny    0.065511\n",
      "funny             0.009634\n",
      "Name: label, dtype: float64\n"
     ]
    }
   ],
   "source": [
    "# calculate the ratio of each label in the test file\n",
    "ratio = test['label'].value_counts() / len(test)\n",
    "print(ratio)"
   ]
  },
  {
   "cell_type": "code",
   "execution_count": 7,
   "metadata": {},
   "outputs": [
    {
     "data": {
      "text/html": [
       "<div>\n",
       "<style scoped>\n",
       "    .dataframe tbody tr th:only-of-type {\n",
       "        vertical-align: middle;\n",
       "    }\n",
       "\n",
       "    .dataframe tbody tr th {\n",
       "        vertical-align: top;\n",
       "    }\n",
       "\n",
       "    .dataframe thead th {\n",
       "        text-align: right;\n",
       "    }\n",
       "</style>\n",
       "<table border=\"1\" class=\"dataframe\">\n",
       "  <thead>\n",
       "    <tr style=\"text-align: right;\">\n",
       "      <th></th>\n",
       "      <th>caption</th>\n",
       "      <th>mean</th>\n",
       "      <th>label</th>\n",
       "      <th>rating</th>\n",
       "    </tr>\n",
       "  </thead>\n",
       "  <tbody>\n",
       "    <tr>\n",
       "      <th>0</th>\n",
       "      <td>She used to think I was the center of the univ...</td>\n",
       "      <td>1.699167</td>\n",
       "      <td>funny</td>\n",
       "      <td>funny</td>\n",
       "    </tr>\n",
       "    <tr>\n",
       "      <th>1</th>\n",
       "      <td>I remember the day that Mars said “You’ll regr...</td>\n",
       "      <td>1.651650</td>\n",
       "      <td>funny</td>\n",
       "      <td>funny</td>\n",
       "    </tr>\n",
       "    <tr>\n",
       "      <th>2</th>\n",
       "      <td>Could I get some more ice?</td>\n",
       "      <td>1.639924</td>\n",
       "      <td>funny</td>\n",
       "      <td>somewhat_funny</td>\n",
       "    </tr>\n",
       "    <tr>\n",
       "      <th>3</th>\n",
       "      <td>It's five o'clock somewhere.</td>\n",
       "      <td>1.637793</td>\n",
       "      <td>funny</td>\n",
       "      <td>not_funny</td>\n",
       "    </tr>\n",
       "    <tr>\n",
       "      <th>4</th>\n",
       "      <td>Everything I drink goes to my equator.”</td>\n",
       "      <td>1.636842</td>\n",
       "      <td>funny</td>\n",
       "      <td>somewhat_funny</td>\n",
       "    </tr>\n",
       "  </tbody>\n",
       "</table>\n",
       "</div>"
      ],
      "text/plain": [
       "                                             caption      mean  label  \\\n",
       "0  She used to think I was the center of the univ...  1.699167  funny   \n",
       "1  I remember the day that Mars said “You’ll regr...  1.651650  funny   \n",
       "2                         Could I get some more ice?  1.639924  funny   \n",
       "3                       It's five o'clock somewhere.  1.637793  funny   \n",
       "4            Everything I drink goes to my equator.”  1.636842  funny   \n",
       "\n",
       "           rating  \n",
       "0           funny  \n",
       "1           funny  \n",
       "2  somewhat_funny  \n",
       "3       not_funny  \n",
       "4  somewhat_funny  "
      ]
     },
     "execution_count": 7,
     "metadata": {},
     "output_type": "execute_result"
    }
   ],
   "source": [
    "# merge the two dataframes by caption\n",
    "merged = test.merge(df, on=\"caption\")\n",
    "merged.head()"
   ]
  },
  {
   "cell_type": "code",
   "execution_count": 8,
   "metadata": {},
   "outputs": [
    {
     "name": "stdout",
     "output_type": "stream",
     "text": [
      "{'funny': 0.2, 'somewhat_funny': 0.5441176470588235, 'not_funny': 0.10520833333333333}\n"
     ]
    }
   ],
   "source": [
    "# calculate the accuracy\n",
    "accuracy = accuracy(merged)\n",
    "print(accuracy)"
   ]
  },
  {
   "cell_type": "code",
   "execution_count": 9,
   "metadata": {},
   "outputs": [
    {
     "name": "stdout",
     "output_type": "stream",
     "text": [
      "{'funny': 0.009237875288683603, 'somewhat_funny': 0.1302816901408451, 'not_funny': 0.18790697674418602}\n"
     ]
    }
   ],
   "source": [
    "f1_funny = F1_score_Calculation(merged, 'funny')\n",
    "f1_somewhat_funny = F1_score_Calculation(merged, 'somewhat_funny')\n",
    "f1_not_funny = F1_score_Calculation(merged, 'not_funny')\n",
    "F1_score = {'funny': f1_funny, 'somewhat_funny': f1_somewhat_funny, 'not_funny': f1_not_funny}\n",
    "print(F1_score)\n"
   ]
  },
  {
   "cell_type": "code",
   "execution_count": 10,
   "metadata": {},
   "outputs": [
    {
     "name": "stdout",
     "output_type": "stream",
     "text": [
      "0.18208651566739714\n"
     ]
    }
   ],
   "source": [
    "# calculate the finally F1 score with weighted-averaging\n",
    "F1_score = 0.01 * F1_score['funny'] + 0.07 * F1_score['somewhat_funny'] + 0.92 * F1_score['not_funny']\n",
    "print(F1_score)"
   ]
  }
 ],
 "metadata": {
  "kernelspec": {
   "display_name": "fine_tune",
   "language": "python",
   "name": "python3"
  },
  "language_info": {
   "codemirror_mode": {
    "name": "ipython",
    "version": 3
   },
   "file_extension": ".py",
   "mimetype": "text/x-python",
   "name": "python",
   "nbconvert_exporter": "python",
   "pygments_lexer": "ipython3",
   "version": "3.10.11"
  }
 },
 "nbformat": 4,
 "nbformat_minor": 2
}
