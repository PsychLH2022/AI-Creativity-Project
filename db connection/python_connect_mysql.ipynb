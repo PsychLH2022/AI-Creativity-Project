{
 "cells": [
  {
   "cell_type": "markdown",
   "metadata": {},
   "source": [
    "# Preparations\n",
    "- Install *MySQL Workbench*: https://dev.mysql.com/downloads/workbench/\n",
    "- Connect our database by using *MySQL Workbench*: https://dev.mysql.com/doc/workbench/en/wb-mysql-connections-new.html\\\n",
    "In setup new connection form, enter connection name you like and then enter hostname and username.\\\n",
    "**Hostname: dbnewyorkcartoon.cgyqzvdc98df.us-east-2.rds.amazonaws.com**\\\n",
    "**Username: dbuser**\\\n",
    "And after clicking 'Test connection', you need to enter the passcode=**Sql123456**.\\\n",
    "If testing connection succeeds, you can click 'OK' to create the new connection."
   ]
  },
  {
   "cell_type": "markdown",
   "metadata": {},
   "source": [
    "## Connect to MySQL Database in Python"
   ]
  },
  {
   "cell_type": "markdown",
   "metadata": {},
   "source": [
    "host='dbnewyorkcartoon.cgyqzvdc98df.us-east-2.rds.amazonaws.com'\\\n",
    "database='new_york_cartoon'\\\n",
    "user='dbuser'\\\n",
    "password='Sql123456'"
   ]
  },
  {
   "cell_type": "code",
   "execution_count": 12,
   "metadata": {},
   "outputs": [
    {
     "name": "stdout",
     "output_type": "stream",
     "text": [
      "Connected to MySQL Server version  8.0.33\n",
      "You succeed to connect to database:  ('new_york_cartoon',)\n"
     ]
    }
   ],
   "source": [
    "import mysql.connector\n",
    "from mysql.connector import Error\n",
    "import pandas as pd\n",
    "pd.set_option('display.max_colwidth', None)\n",
    "\n",
    "try:\n",
    "    connection = mysql.connector.connect(host='dbnewyorkcartoon.cgyqzvdc98df.us-east-2.rds.amazonaws.com',\n",
    "                                         database='new_york_cartoon',\n",
    "                                         user='dbuser',\n",
    "                                         password='Sql123456'\n",
    "                                         )\n",
    "    if connection.is_connected():\n",
    "        db_Info = connection.get_server_info()\n",
    "        print(\"Connected to MySQL Server version \", db_Info)\n",
    "        cursor = connection.cursor()\n",
    "        cursor.execute(\"select database();\")\n",
    "        record = cursor.fetchone()\n",
    "        print(\"You succeed to connect to database: \", record)\n",
    "\n",
    "except Error as e:\n",
    "    print(\"Error while connecting to MySQL\", e)"
   ]
  },
  {
   "cell_type": "code",
   "execution_count": 2,
   "metadata": {},
   "outputs": [
    {
     "data": {
      "text/plain": [
       "'new_york_cartoon'"
      ]
     },
     "execution_count": 2,
     "metadata": {},
     "output_type": "execute_result"
    }
   ],
   "source": [
    "cursor.execute('select database();')\n",
    "db = cursor.fetchall()\n",
    "db[0][0]"
   ]
  },
  {
   "cell_type": "markdown",
   "metadata": {},
   "source": [
    "### Show names of tables in the database"
   ]
  },
  {
   "cell_type": "code",
   "execution_count": 3,
   "metadata": {},
   "outputs": [
    {
     "data": {
      "text/plain": [
       "[(bytearray(b'base'),),\n",
       " (bytearray(b'explanation'),),\n",
       " (bytearray(b'explanation_from_pixels'),),\n",
       " (bytearray(b'interface_records'),),\n",
       " (bytearray(b'matching'),),\n",
       " (bytearray(b'matching_from_pixels'),),\n",
       " (bytearray(b'new_descriptions'),),\n",
       " (bytearray(b'ranking'),),\n",
       " (bytearray(b'ranking_from_pixels'),),\n",
       " (bytearray(b'result'),),\n",
       " (bytearray(b'users'),)]"
      ]
     },
     "execution_count": 3,
     "metadata": {},
     "output_type": "execute_result"
    }
   ],
   "source": [
    "cursor.execute('show tables;')\n",
    "tables = cursor.fetchall()\n",
    "tables"
   ]
  },
  {
   "cell_type": "markdown",
   "metadata": {},
   "source": [
    "### Show attributes of a table"
   ]
  },
  {
   "cell_type": "code",
   "execution_count": 4,
   "metadata": {},
   "outputs": [
    {
     "data": {
      "text/plain": [
       "['result_id',\n",
       " 'caption',\n",
       " 'ranking',\n",
       " 'mean',\n",
       " 'prec',\n",
       " 'votes',\n",
       " 'not_funny',\n",
       " 'somewhat_funny',\n",
       " 'funny',\n",
       " 'contest_num']"
      ]
     },
     "execution_count": 4,
     "metadata": {},
     "output_type": "execute_result"
    }
   ],
   "source": [
    "attr_show_query = \"select * from result where contest_num=510;\"  # change table name to gain attributes of different table\n",
    "cursor.execute(attr_show_query)\n",
    "\n",
    "num_attr = len(cursor.description)\n",
    "attr_names = [i[0] for i in cursor.description]\n",
    "\n",
    "records = cursor.fetchall()\n",
    "attr_names"
   ]
  },
  {
   "cell_type": "markdown",
   "metadata": {},
   "source": [
    "### Sql select query"
   ]
  },
  {
   "cell_type": "code",
   "execution_count": 5,
   "metadata": {},
   "outputs": [
    {
     "name": "stdout",
     "output_type": "stream",
     "text": [
      "['caption', 'ranking']\n",
      "Total number of rows in table:  15005\n"
     ]
    },
    {
     "data": {
      "text/html": [
       "<div>\n",
       "<style scoped>\n",
       "    .dataframe tbody tr th:only-of-type {\n",
       "        vertical-align: middle;\n",
       "    }\n",
       "\n",
       "    .dataframe tbody tr th {\n",
       "        vertical-align: top;\n",
       "    }\n",
       "\n",
       "    .dataframe thead th {\n",
       "        text-align: right;\n",
       "    }\n",
       "</style>\n",
       "<table border=\"1\" class=\"dataframe\">\n",
       "  <thead>\n",
       "    <tr style=\"text-align: right;\">\n",
       "      <th></th>\n",
       "      <th>caption</th>\n",
       "      <th>ranking</th>\n",
       "    </tr>\n",
       "  </thead>\n",
       "  <tbody>\n",
       "    <tr>\n",
       "      <th>0</th>\n",
       "      <td>I’m here to conduct your exit interview.</td>\n",
       "      <td>0</td>\n",
       "    </tr>\n",
       "    <tr>\n",
       "      <th>1</th>\n",
       "      <td>At this point, I’m no longer sure which one of us they’re testing.</td>\n",
       "      <td>1</td>\n",
       "    </tr>\n",
       "    <tr>\n",
       "      <th>2</th>\n",
       "      <td>The restroom?  Third door on your right, then left, left again, then right, right and left. You can’t miss it.</td>\n",
       "      <td>2</td>\n",
       "    </tr>\n",
       "    <tr>\n",
       "      <th>3</th>\n",
       "      <td>That concludes our study. You can see yourself out.</td>\n",
       "      <td>3</td>\n",
       "    </tr>\n",
       "    <tr>\n",
       "      <th>4</th>\n",
       "      <td>It’s an honor to work with a giant in the field.</td>\n",
       "      <td>4</td>\n",
       "    </tr>\n",
       "    <tr>\n",
       "      <th>...</th>\n",
       "      <td>...</td>\n",
       "      <td>...</td>\n",
       "    </tr>\n",
       "    <tr>\n",
       "      <th>15000</th>\n",
       "      <td>It can’t be authentic - Swi</td>\n",
       "      <td>4641</td>\n",
       "    </tr>\n",
       "    <tr>\n",
       "      <th>15001</th>\n",
       "      <td>I try all cheese.  I eat what I can.</td>\n",
       "      <td>4642</td>\n",
       "    </tr>\n",
       "    <tr>\n",
       "      <th>15002</th>\n",
       "      <td>A cheese board for the whole ship? Where’s the iceberg lettuce?</td>\n",
       "      <td>4643</td>\n",
       "    </tr>\n",
       "    <tr>\n",
       "      <th>15003</th>\n",
       "      <td>Swiss has no place on our cheese board! Let's hope it drifts toward a cruise ship.</td>\n",
       "      <td>4644</td>\n",
       "    </tr>\n",
       "    <tr>\n",
       "      <th>15004</th>\n",
       "      <td>In search of the great white Swiss</td>\n",
       "      <td>4645</td>\n",
       "    </tr>\n",
       "  </tbody>\n",
       "</table>\n",
       "<p>15005 rows × 2 columns</p>\n",
       "</div>"
      ],
      "text/plain": [
       "                                                                                                              caption  \\\n",
       "0                                                                            I’m here to conduct your exit interview.   \n",
       "1                                                  At this point, I’m no longer sure which one of us they’re testing.   \n",
       "2      The restroom?  Third door on your right, then left, left again, then right, right and left. You can’t miss it.   \n",
       "3                                                                 That concludes our study. You can see yourself out.   \n",
       "4                                                                    It’s an honor to work with a giant in the field.   \n",
       "...                                                                                                               ...   \n",
       "15000                                                                                     It can’t be authentic - Swi   \n",
       "15001                                                                            I try all cheese.  I eat what I can.   \n",
       "15002                                                 A cheese board for the whole ship? Where’s the iceberg lettuce?   \n",
       "15003                              Swiss has no place on our cheese board! Let's hope it drifts toward a cruise ship.   \n",
       "15004                                                                              In search of the great white Swiss   \n",
       "\n",
       "       ranking  \n",
       "0            0  \n",
       "1            1  \n",
       "2            2  \n",
       "3            3  \n",
       "4            4  \n",
       "...        ...  \n",
       "15000     4641  \n",
       "15001     4642  \n",
       "15002     4643  \n",
       "15003     4644  \n",
       "15004     4645  \n",
       "\n",
       "[15005 rows x 2 columns]"
      ]
     },
     "execution_count": 5,
     "metadata": {},
     "output_type": "execute_result"
    }
   ],
   "source": [
    "sql_select_Query = \"select caption,ranking from result where contest_num in (853,852,851);\"  # you can change query in this line for selecting your target data\n",
    "cursor.execute(sql_select_Query)\n",
    "\n",
    "# show attributes names of target data\n",
    "num_attr = len(cursor.description)\n",
    "attr_names = [i[0] for i in cursor.description]\n",
    "print(attr_names)\n",
    "\n",
    "# get all records\n",
    "records = cursor.fetchall()\n",
    "print(\"Total number of rows in table: \", cursor.rowcount)\n",
    "df = pd.DataFrame(records, columns=attr_names)\n",
    "df"
   ]
  },
  {
   "cell_type": "markdown",
   "metadata": {},
   "source": [
    "## Close the connection"
   ]
  },
  {
   "cell_type": "code",
   "execution_count": 13,
   "metadata": {},
   "outputs": [
    {
     "name": "stdout",
     "output_type": "stream",
     "text": [
      "MySQL connection is closed.\n"
     ]
    }
   ],
   "source": [
    "if connection.is_connected():\n",
    "    cursor.close()\n",
    "    connection.close()\n",
    "    print(\"MySQL connection is closed.\")\n",
    "else:\n",
    "    print(\"MySQL connection has been closed.\")"
   ]
  }
 ],
 "metadata": {
  "kernelspec": {
   "display_name": "mydb",
   "language": "python",
   "name": "python3"
  },
  "language_info": {
   "codemirror_mode": {
    "name": "ipython",
    "version": 3
   },
   "file_extension": ".py",
   "mimetype": "text/x-python",
   "name": "python",
   "nbconvert_exporter": "python",
   "pygments_lexer": "ipython3",
   "version": "3.10.11"
  },
  "orig_nbformat": 4
 },
 "nbformat": 4,
 "nbformat_minor": 2
}
