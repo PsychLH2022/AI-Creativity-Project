{
 "cells": [
  {
   "cell_type": "code",
   "execution_count": 2,
   "metadata": {},
   "outputs": [],
   "source": [
    "import pandas as pd\n",
    "import random\n",
    "\n",
    "# funciton to remove caption column in the data\n",
    "def remove_columns(df):\n",
    "    df = df.drop(['caption'], axis=1)\n",
    "    return df"
   ]
  },
  {
   "cell_type": "markdown",
   "metadata": {},
   "source": [
    "## Extract dataset with the ratio of three categories - 1:1:1"
   ]
  },
  {
   "cell_type": "markdown",
   "metadata": {},
   "source": [
    "### For the features model"
   ]
  },
  {
   "cell_type": "code",
   "execution_count": 29,
   "metadata": {},
   "outputs": [],
   "source": [
    "# Read the data and remove caption column\n",
    "file = './LIWC_850_870.csv'\n",
    "df = pd.read_csv(file)\n",
    "df_rmed = remove_columns(df)   # for features model"
   ]
  },
  {
   "cell_type": "code",
   "execution_count": 32,
   "metadata": {},
   "outputs": [],
   "source": [
    "# calculate the number of rows with 'funny' label\n",
    "funny = df_rmed.loc[df_rmed['label'] == 'funny']\n",
    "funny_num = funny.shape[0]\n",
    "\n",
    "# randomly sample the same number of rows with 'somewhat_funny' and 'not_funny' labels\n",
    "somewhat_funny = df_rmed.loc[df_rmed['label'] == 'somewhat_funny']\n",
    "somewhat_funny = somewhat_funny.sample(n=funny_num, random_state=1126)\n",
    "not_funny = df_rmed.loc[df_rmed['label'] == 'not_funny']\n",
    "not_funny = not_funny.sample(n=funny_num, random_state=1126)\n",
    "\n",
    "# for each label, randomly split the data into training and testing sets\n",
    "funny_train = funny.sample(frac=0.8, random_state=1126)\n",
    "funny_test = funny.drop(funny_train.index)\n",
    "somewhat_funny_train = somewhat_funny.sample(frac=0.8, random_state=1126)\n",
    "somewhat_funny_test = somewhat_funny.drop(somewhat_funny_train.index)\n",
    "not_funny_train = not_funny.sample(frac=0.8, random_state=1126)\n",
    "not_funny_test = not_funny.drop(not_funny_train.index)\n",
    "\n",
    "# combine the training and testing sets\n",
    "train = pd.concat([funny_train, somewhat_funny_train, not_funny_train])\n",
    "test = pd.concat([funny_test, somewhat_funny_test, not_funny_test])\n",
    "\n",
    "# write the combined dataframe to csv\n",
    "train.to_csv('../../Experiment_3/features_model/data/train_set_850-870_features.csv', index=False)\n",
    "test.to_csv('../../Experiment_3/features_model/data/test_set_850-870_features.csv', index=False)"
   ]
  },
  {
   "cell_type": "markdown",
   "metadata": {},
   "source": [
    "### For the embedding model"
   ]
  },
  {
   "cell_type": "code",
   "execution_count": 8,
   "metadata": {},
   "outputs": [],
   "source": [
    "# Read the data and remove caption column\n",
    "file = './LIWC_850_870.csv'\n",
    "df = pd.read_csv(file)\n",
    "df_rmed = df[['caption', 'label']]   # for embedding model"
   ]
  },
  {
   "cell_type": "code",
   "execution_count": 10,
   "metadata": {},
   "outputs": [],
   "source": [
    "# calculate the number of rows with 'funny' label\n",
    "funny = df_rmed.loc[df_rmed['label'] == 'funny']\n",
    "funny_num = funny.shape[0]\n",
    "\n",
    "# randomly sample the same number of rows with 'somewhat_funny' and 'not_funny' labels\n",
    "somewhat_funny = df_rmed.loc[df_rmed['label'] == 'somewhat_funny']\n",
    "somewhat_funny = somewhat_funny.sample(n=funny_num, random_state=1126)\n",
    "not_funny = df_rmed.loc[df_rmed['label'] == 'not_funny']\n",
    "not_funny = not_funny.sample(n=funny_num, random_state=1126)\n",
    "\n",
    "# for each label, randomly split the data into training and testing sets\n",
    "funny_train = funny.sample(frac=0.8, random_state=1126)\n",
    "funny_test = funny.drop(funny_train.index)\n",
    "somewhat_funny_train = somewhat_funny.sample(frac=0.8, random_state=1126)\n",
    "somewhat_funny_test = somewhat_funny.drop(somewhat_funny_train.index)\n",
    "not_funny_train = not_funny.sample(frac=0.8, random_state=1126)\n",
    "not_funny_test = not_funny.drop(not_funny_train.index)\n",
    "\n",
    "# combine the training and testing sets\n",
    "train = pd.concat([funny_train, somewhat_funny_train, not_funny_train])\n",
    "test = pd.concat([funny_test, somewhat_funny_test, not_funny_test])"
   ]
  },
  {
   "cell_type": "code",
   "execution_count": 11,
   "metadata": {},
   "outputs": [],
   "source": [
    "all_data = pd.concat([train, test])\n",
    "all_data.to_csv('../../Experiment_3/embedding_model/data/all_data_850-870_embedding.csv', index=False)"
   ]
  }
 ],
 "metadata": {
  "kernelspec": {
   "display_name": "Capstone",
   "language": "python",
   "name": "python3"
  },
  "language_info": {
   "codemirror_mode": {
    "name": "ipython",
    "version": 3
   },
   "file_extension": ".py",
   "mimetype": "text/x-python",
   "name": "python",
   "nbconvert_exporter": "python",
   "pygments_lexer": "ipython3",
   "version": "3.10.11"
  }
 },
 "nbformat": 4,
 "nbformat_minor": 2
}
